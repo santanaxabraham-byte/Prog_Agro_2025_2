{
  "nbformat": 4,
  "nbformat_minor": 0,
  "metadata": {
    "colab": {
      "provenance": [],
      "authorship_tag": "ABX9TyMmFoOGxemn7JfDIkI2bflH",
      "include_colab_link": true
    },
    "kernelspec": {
      "name": "python3",
      "display_name": "Python 3"
    },
    "language_info": {
      "name": "python"
    }
  },
  "cells": [
    {
      "cell_type": "markdown",
      "metadata": {
        "id": "view-in-github",
        "colab_type": "text"
      },
      "source": [
        "<a href=\"https://colab.research.google.com/github/santanaxabraham-byte/Prog_Agro_2025_2/blob/main/tomando_decisiones_Semana_2y3.ipynb\" target=\"_parent\"><img src=\"https://colab.research.google.com/assets/colab-badge.svg\" alt=\"Open In Colab\"/></a>"
      ]
    },
    {
      "cell_type": "markdown",
      "source": [],
      "metadata": {
        "id": "iCQLvD02zoJO"
      }
    },
    {
      "cell_type": "markdown",
      "source": [
        "# 1. Situación de Interés en Ingeniería Agrícola fi:\n",
        "\n",
        "1. Se está diseñando el software para un sistema de\n",
        "riego “inteligente”.\n",
        "2. El programa debe leer el nivel de humedad actual del suelo (un valor de 0 a 100) y decidir qué acción tomar:\n",
        "> No hacer nada, aplicar un riego ligero o aplicar un riego profundo, según\n",
        "umbrales predefinidos."
      ],
      "metadata": {
        "id": "CWAloOYHyWB4"
      }
    },
    {
      "cell_type": "code",
      "execution_count": null,
      "metadata": {
        "id": "7hAw_SCNyGwF"
      },
      "outputs": [],
      "source": [
        "# Paso: 1. Definir los umbrales de humedad (ej. por debajo de 30% es seco, entre 30% y 70% es óptimo, por encima de 70% es saturado).\n",
        "#Paso 2: Pedir al usuario el nivel de humedad actual.\n",
        "#Paso 3: Convertir la entrada a un número (float).\n",
        "#Paso 4: Usar una estructura if/elif/else para comparar la humedad con los umbrales.\n",
        "#Paso 5: if la humedad es muy alta, imprimir “Suelo saturado, no regar”.\n",
        "#Paso 6: elif la humedad es muy baja, imprimir “Suelo seco, aplicando riego profundo”.\n",
        "#Paso 7: else (para el caso intermedio), imprimir “Humedad óptima, aplicando riego ligero de mantenimiento”.\n",
        "humedad_actual = float(input(\"Ingrese el nivel de humedad actual del suelo (en %): \"))\n",
        "if humedad_actual < 30:\n",
        "  print(\"El suelo está seco. Es necesario riego.\")\n",
        "elif humedad_actual >= 30 and humedad_actual <= 70:\n",
        "    print(\"El suelo está óptimo. Aplicar riego ligero de mantenimiento”.\")\n",
        "else:\n",
        "    print(\"El suelo está saturado. No es necesario riego.\")\n"
      ]
    },
    {
      "cell_type": "markdown",
      "source": [
        "# 2. Situación de Interés en Ingeniería Agroindustrial fi:\n",
        "\n",
        "1. En una línea de empaque de frutas, un sensor mide el peso de cada fruta.\n",
        "2. Se necesita un programa que analice una lista de pesos de un lote y cuente\n",
        "> cuántas frutas cumplen con el estándar de “Exportación” (ej. > 250g)\n",
        "> cuántas son de “Mercado Nacional” (entre 150g y 250g)\n",
        "> cuántas se consideran “Rechazo” (< 150g)."
      ],
      "metadata": {
        "id": "7VQW0e8y6BpG"
      }
    },
    {
      "cell_type": "code",
      "source": [
        "#Clasificacion de lotes (for loop).\n",
        "#Paso 1: Definir una lista con los pesos de las frutas del lote (para simular los datos del sensor).\n",
        "pesos = {100, 95, 150, 250, 200, 300, 280}\n",
        "\n",
        "#Paso 2: Inicializar tres contadores en cero: exportacion, nacional y rechazo.\n",
        "exportacion = 0\n",
        "nacional = 0\n",
        "rechazo = 0\n",
        "\n",
        "#Paso 3: Usar un bucle for para recorrer la lista de pesos.\n",
        "for peso in pesos:\n",
        "    if peso > 250:\n",
        "        exportacion += 1\n",
        "    elif peso >= 150 and peso <= 250:\n",
        "        nacional += 1\n",
        "    else:\n",
        "        rechazo += 1\n",
        "\n",
        "#Paso 4: Dentro del bucle, usar if/elif/else para clasificar cada peso.\n",
        "print(\"Frutas exportadas:\", exportacion)\n",
        "print(\"Frutas en el mercado nacional:\", nacional)\n",
        "print(\"Frutas rechazadas:\", rechazo)\n",
        "\n"
      ],
      "metadata": {
        "colab": {
          "base_uri": "https://localhost:8080/"
        },
        "id": "1FsWjXcH7a30",
        "outputId": "8bcfb439-e306-481e-f9f0-e5cc0669f987"
      },
      "execution_count": 15,
      "outputs": [
        {
          "output_type": "stream",
          "name": "stdout",
          "text": [
            "Frutas exportadas: 2\n",
            "Frutas en el mercado nacional: 3\n",
            "Frutas rechazadas: 2\n"
          ]
        }
      ]
    }
  ]
}