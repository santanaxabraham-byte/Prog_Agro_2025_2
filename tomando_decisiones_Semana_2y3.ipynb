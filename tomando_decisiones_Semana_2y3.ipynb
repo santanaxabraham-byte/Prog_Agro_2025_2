{
  "nbformat": 4,
  "nbformat_minor": 0,
  "metadata": {
    "colab": {
      "provenance": [],
      "authorship_tag": "ABX9TyPVRdE2qJ4vDzqFdMy4FP8T",
      "include_colab_link": true
    },
    "kernelspec": {
      "name": "python3",
      "display_name": "Python 3"
    },
    "language_info": {
      "name": "python"
    }
  },
  "cells": [
    {
      "cell_type": "markdown",
      "metadata": {
        "id": "view-in-github",
        "colab_type": "text"
      },
      "source": [
        "<a href=\"https://colab.research.google.com/github/santanaxabraham-byte/Prog_Agro_2025_2/blob/main/tomando_decisiones_Semana_2y3.ipynb\" target=\"_parent\"><img src=\"https://colab.research.google.com/assets/colab-badge.svg\" alt=\"Open In Colab\"/></a>"
      ]
    },
    {
      "cell_type": "markdown",
      "source": [],
      "metadata": {
        "id": "iCQLvD02zoJO"
      }
    },
    {
      "cell_type": "markdown",
      "source": [
        "# 1. Situación de Interés en Ingeniería Agrícola fi:\n",
        "\n",
        "1. Se está diseñando el software para un sistema de\n",
        "riego “inteligente”.\n",
        "2. El programa debe leer el nivel de humedad actual del suelo (un valor de 0 a 100) y decidir qué acción tomar:\n",
        "> No hacer nada, aplicar un riego ligero o aplicar un riego profundo, según\n",
        "umbrales predefinidos."
      ],
      "metadata": {
        "id": "CWAloOYHyWB4"
      }
    },
    {
      "cell_type": "code",
      "execution_count": null,
      "metadata": {
        "id": "7hAw_SCNyGwF"
      },
      "outputs": [],
      "source": [
        "# Paso: 1. Definir los umbrales de humedad (ej. por debajo de 30% es seco, entre 30% y 70% es óptimo, por encima de 70% es saturado).\n",
        "#Paso 2: Pedir al usuario el nivel de humedad actual.\n",
        "#Paso 3: Convertir la entrada a un número (float).\n",
        "#Paso 4: Usar una estructura if/elif/else para comparar la humedad con los umbrales.\n",
        "#Paso 5: if la humedad es muy alta, imprimir “Suelo saturado, no regar”.\n",
        "#Paso 6: elif la humedad es muy baja, imprimir “Suelo seco, aplicando riego profundo”.\n",
        "#Paso 7: else (para el caso intermedio), imprimir “Humedad óptima, aplicando riego ligero de mantenimiento”.\n",
        "humedad_actual = float(input(\"Ingrese el nivel de humedad actual del suelo (en %): \"))\n",
        "if humedad_actual < 30:\n",
        "  print(\"El suelo está seco. Es necesario riego.\")\n",
        "elif humedad_actual >= 30 and humedad_actual <= 70:\n",
        "    print(\"El suelo está óptimo. Aplicar riego ligero de mantenimiento”.\")\n",
        "else:\n",
        "    print(\"El suelo está saturado. No es necesario riego.\")\n"
      ]
    }
  ]
}