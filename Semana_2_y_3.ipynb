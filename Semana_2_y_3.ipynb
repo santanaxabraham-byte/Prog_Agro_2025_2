{
  "nbformat": 4,
  "nbformat_minor": 0,
  "metadata": {
    "colab": {
      "provenance": [],
      "authorship_tag": "ABX9TyM2Ar4sBwPqjVbSZyiuWyZn",
      "include_colab_link": true
    },
    "kernelspec": {
      "name": "python3",
      "display_name": "Python 3"
    },
    "language_info": {
      "name": "python"
    }
  },
  "cells": [
    {
      "cell_type": "markdown",
      "metadata": {
        "id": "view-in-github",
        "colab_type": "text"
      },
      "source": [
        "<a href=\"https://colab.research.google.com/github/santanaxabraham-byte/Prog_Agro_2025_2/blob/main/Semana_2_y_3.ipynb\" target=\"_parent\"><img src=\"https://colab.research.google.com/assets/colab-badge.svg\" alt=\"Open In Colab\"/></a>"
      ]
    },
    {
      "cell_type": "markdown",
      "source": [
        "# Situación 1: Clasificador de pH del Suelo\n",
        "\n",
        "El pH del suelo es un factor crítico para la absorción de nutrientes por parte de las plantas. Desarrollarás un programa que recibe un valor de pH e informa al agricultor si el suelo es ácido, neutro o alcalino, ofreciendo una recomendación general.\n"
      ],
      "metadata": {
        "id": "EMc4vLnYsY9h"
      }
    },
    {
      "cell_type": "code",
      "execution_count": null,
      "metadata": {
        "id": "ISUlppq5sHWJ"
      },
      "outputs": [],
      "source": [
        "#Paso 1: Explicar al usuario que el programa clasifica el pH del suelo.\n",
        "print(\"Este programa clasifica el pH del suelo.\")\n",
        "\n",
        "#Paso 2: Pedir al usuario que ingrese el valor de pH medido (puede ser decimal).\n",
        "ph = float(input(\"Por favor, ingrese el valor de pH medido: \"))\n",
        "\n",
        "#Paso 3: Utilizar una estructura 'if' para la primera condición: si el pH es menor que 6.5.\n",
        "if ph < 7:\n",
        "    print(\"El suelo es ácido.\")\n",
        "    #Dentro del 'if', mostrar un mensaje indicando que el suelo es \"Ácido\" y recomendar el uso de cal agrícola.\n",
        "    print(\"Recomendamos el uso de cal agrícola.\")\n",
        "\n",
        "elif ph == 7:\n",
        "    print(\"El suelo es neutro, .\")\n",
        "    #Dentro del 'elif', mostrar un mensaje indicando que el suelo es \"Alcalino\" y recomendar el uso de sulfato.\n",
        "    print(\"Recomendamos el uso de sulfato.\")\n",
        "\n",
        "elif ph > 7:\n",
        "    print(\"El suelo es alcalino.\")\n",
        "    #Dentro del 'else', mostrar un mensaje indicando que el suelo es \"Neutro\" y que es ideal para la mayoría de los cultivos.\n",
        "    print(\"Es ideal para la mayoría de los cultivos.\")\n",
        "\n",
        "\n"
      ]
    },
    {
      "cell_type": "markdown",
      "metadata": {
        "id": "0c15fde5"
      },
      "source": [
        "El código solicita al usuario que ingrese un valor de pH del suelo, luego clasifica el suelo como ácido (pH < 7), neutro (pH = 7) o alcalino (pH > 7) y proporciona una recomendación general para cada caso."
      ]
    },
    {
      "cell_type": "markdown",
      "source": [
        "# Situación 2: Simulación de Crecimiento de un Cultivo\n",
        "Un agrónomo quiere simular el crecimiento en altura de una planta durante 5 semanas. La planta crece a una tasa diferente cada semana. El programa debe solicitar la tasa de crecimiento de cada semana y mostrar la altura total al final."
      ],
      "metadata": {
        "id": "zh8zKpCdyP5y"
      }
    },
    {
      "cell_type": "code",
      "source": [
        "# Paso 1: Inicializar una variable para la altura total de la planta en cero.\n",
        "altura = 0\n",
        "# Inicializar una lista para guardar el crecimiento semanal\n",
        "crecimiento_semanal = []\n",
        "\n",
        "#Paso 2: Mostrar un mensaje que indique que se simulará el crecimiento durante 5 semanas.\n",
        "print(\"Simulacion de crecimiento durante 5 semanas\")\n",
        "\n",
        "#Paso 3: Crear un bucle 'for' que se repita 5 veces (una por cada semana).\n",
        "for semana in range(1, 6):\n",
        "  \"\"\"\n",
        "  Dentro del bucle, pedir al usuario el crecimiento de la planta para la semana\n",
        "  actual (ej. \"Ingrese el crecimiento en cm para la semana 1:\").\n",
        "  \"\"\"\n",
        "  crecimiento = float(input(f\"Ingrese el crecimiento en cm para la semana {semana}: \"))\n",
        "\n",
        "  # Guardar el crecimiento semanal en la lista\n",
        "  crecimiento_semanal.append(crecimiento)\n",
        "\n",
        "  #Paso 4: Actualizar la altura total de la planta sumándole el crecimiento de la semana actual.\n",
        "  altura += crecimiento\n",
        "\n",
        "# Después de que el bucle termine, mostrar el crecimiento semanal guardado y la altura total.\n",
        "print(\"\\nCrecimiento semanal:\")\n",
        "for i, crecimiento in enumerate(crecimiento_semanal):\n",
        "    print(f\"Semana {i+1}: {crecimiento} cm\")\n",
        "\n",
        "print(f\"\\nLa altura total de la planta es: {altura} cm\")"
      ],
      "metadata": {
        "colab": {
          "base_uri": "https://localhost:8080/"
        },
        "id": "wvZJaWkGype-",
        "outputId": "52291717-d921-462a-9499-5212f3f9f25d"
      },
      "execution_count": 8,
      "outputs": [
        {
          "output_type": "stream",
          "name": "stdout",
          "text": [
            "Simulacion de crecimiento durante 5 semanas\n",
            "Ingrese el crecimiento en cm para la semana 1: 12\n",
            "Ingrese el crecimiento en cm para la semana 2: 21\n",
            "Ingrese el crecimiento en cm para la semana 3: 23\n",
            "Ingrese el crecimiento en cm para la semana 4: 33\n",
            "Ingrese el crecimiento en cm para la semana 5: 21\n",
            "\n",
            "Crecimiento semanal:\n",
            "Semana 1: 12.0 cm\n",
            "Semana 2: 21.0 cm\n",
            "Semana 3: 23.0 cm\n",
            "Semana 4: 33.0 cm\n",
            "Semana 5: 21.0 cm\n",
            "\n",
            "La altura total de la planta es: 110.0 cm\n"
          ]
        }
      ]
    }
  ]
}