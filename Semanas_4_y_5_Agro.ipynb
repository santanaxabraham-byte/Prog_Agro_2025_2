{
  "nbformat": 4,
  "nbformat_minor": 0,
  "metadata": {
    "colab": {
      "provenance": [],
      "authorship_tag": "ABX9TyMUJA/lLaYD/il8VngKuC1C",
      "include_colab_link": true
    },
    "kernelspec": {
      "name": "python3",
      "display_name": "Python 3"
    },
    "language_info": {
      "name": "python"
    }
  },
  "cells": [
    {
      "cell_type": "markdown",
      "metadata": {
        "id": "view-in-github",
        "colab_type": "text"
      },
      "source": [
        "<a href=\"https://colab.research.google.com/github/santanaxabraham-byte/Prog_Agro_2025_2/blob/main/Semanas_4_y_5_Agro.ipynb\" target=\"_parent\"><img src=\"https://colab.research.google.com/assets/colab-badge.svg\" alt=\"Open In Colab\"/></a>"
      ]
    },
    {
      "cell_type": "markdown",
      "metadata": {
        "id": "5e43fd64"
      },
      "source": [
        "## Listas, Diccionarios y Tuplas en Python\n",
        "\n",
        "Estos son tipos de datos compuestos que permiten almacenar colecciones de elementos.\n",
        "\n",
        "### Listas (`list`)\n",
        "\n",
        "*   **Definición:** Una colección ordenada y mutable de elementos. Los elementos pueden ser de diferentes tipos de datos.\n",
        "*   **Sintaxis:** Se definen utilizando corchetes `[]`.\n",
        "*   **Características:**\n",
        "    *   **Ordenadas:** Los elementos tienen un orden definido y se puede acceder a ellos por su índice.\n",
        "    *   **Mutables:** Se pueden modificar después de su creación (añadir, eliminar o cambiar elementos).\n",
        "    *   **Permiten duplicados:** Pueden contener elementos repetidos.\n",
        "\n",
        "### Diccionarios (`dict`)\n",
        "\n",
        "*   **Definición:** Una colección no ordenada y mutable de pares clave-valor. Cada clave es única y se utiliza para acceder a su valor asociado.\n",
        "*   **Sintaxis:** Se definen utilizando llaves `{}` y pares clave-valor separados por dos puntos `:`.\n",
        "*   **Características:**\n",
        "    *   **No ordenados:** El orden de los elementos no está garantizado (aunque en versiones recientes de Python, el orden de inserción se mantiene).\n",
        "    *   **Mutables:** Se pueden modificar después de su creación (añadir, eliminar o cambiar pares clave-valor).\n",
        "    *   **Claves únicas:** Cada clave dentro de un diccionario debe ser única.\n",
        "    *   **Acceso por clave:** Se accede a los valores utilizando sus claves asociadas.\n",
        "\n",
        "### Tuplas (`tuple`)\n",
        "\n",
        "*   **Definición:** Una colección ordenada e inmutable de elementos. Similar a las listas, pero no se pueden modificar después de su creación.\n",
        "*   **Sintaxis:** Se definen utilizando paréntesis `()`.\n",
        "*   **Características:**\n",
        "    *   **Ordenadas:** Los elementos tienen un orden definido y se puede acceder a ellos por su índice.\n",
        "    *   **Inmutables:** No se pueden modificar después de su creación (no se pueden añadir, eliminar o cambiar elementos).\n",
        "    *   **Permiten duplicados:** Pueden contener elementos repetidos.\n",
        "\n",
        "### Similitudes\n",
        "\n",
        "*   Los tres tipos pueden almacenar elementos de diferentes tipos de datos.\n",
        "*   Las listas y tuplas son ordenadas y permiten acceder a los elementos por su índice.\n",
        "\n",
        "### Diferencias\n",
        "\n",
        "*   **Mutabilidad:** Las listas y diccionarios son mutables (se pueden modificar), mientras que las tuplas son inmutables (no se pueden modificar).\n",
        "*   **Orden:** Las listas y tuplas son ordenadas, mientras que los diccionarios (históricamente) no lo son (aunque en versiones recientes mantienen el orden de inserción).\n",
        "*   **Acceso:** Las listas y tuplas se acceden por índice, mientras que los diccionarios se acceden por clave.\n",
        "*   **Estructura:** Las listas y tuplas almacenan elementos individuales, mientras que los diccionarios almacenan pares clave-valor."
      ]
    },
    {
      "cell_type": "markdown",
      "source": [],
      "metadata": {
        "id": "m8LAuVXS1G9R"
      }
    },
    {
      "cell_type": "markdown",
      "metadata": {
        "id": "34f164b9"
      },
      "source": [
        "## Funciones, Usos e Importancia de Listas, Diccionarios y Tuplas en Python\n",
        "\n",
        "Estos tipos de datos compuestos son fundamentales en Python para organizar y manipular colecciones de información de manera eficiente.\n",
        "\n",
        "### Listas (`list`)\n",
        "\n",
        "*   **Funciones/Usos:**\n",
        "    *   Almacenar colecciones ordenadas de elementos (por ejemplo, una lista de nombres de estudiantes, una secuencia de números).\n",
        "    *   Permiten acceder, modificar, añadir y eliminar elementos fácilmente por su índice.\n",
        "    *   Se utilizan comúnmente para iterar sobre colecciones de datos.\n",
        "    *   Implementar pilas (stacks) y colas (queues).\n",
        "*   **Importancia:** Su mutabilidad y orden las hacen ideales para representar colecciones dinámicas que cambian a lo largo de la ejecución del programa. Son muy versátiles para una amplia gama de tareas de programación.\n",
        "\n",
        "### Diccionarios (`dict`)\n",
        "\n",
        "*   **Funciones/Usos:**\n",
        "    *   Almacenar datos en pares clave-valor (por ejemplo, información de un usuario donde la clave es el nombre del campo y el valor es su dato).\n",
        "    *   Permiten un acceso rápido a los valores utilizando sus claves únicas.\n",
        "    *   Modelar objetos o estructuras con propiedades y sus valores.\n",
        "    *   Contar la frecuencia de elementos.\n",
        "*   **Importancia:** Son esenciales para representar datos estructurados donde la relación entre elementos es importante. El acceso rápido por clave los hace muy eficientes para buscar información.\n",
        "\n",
        "### Tuplas (`tuple`)\n",
        "\n",
        "*   **Funciones/Usos:**\n",
        "    *   Almacenar colecciones ordenadas de elementos que **no deben ser modificados** después de su creación (por ejemplo, las coordenadas de un punto, los días de la semana).\n",
        "    *   Pueden ser utilizadas como claves en diccionarios (si contienen elementos inmutables), a diferencia de las listas.\n",
        "    *   Devolver múltiples valores de una función.\n",
        "*   **Importancia:** Su inmutabilidad garantiza que los datos que contienen no cambiarán accidentalmente. Son útiles para datos que deben permanecer constantes y para mejorar la seguridad de los datos. También pueden ser ligeramente más eficientes en términos de memoria y rendimiento en algunos casos debido a su naturaleza inmutable.\n",
        "\n",
        "### Importancia General\n",
        "\n",
        "Listas, diccionarios y tuplas son cruciales porque proporcionan formas estructuradas de manejar múltiples piezas de información. Permiten a los programadores:\n",
        "\n",
        "*   **Organizar datos:** Agrupar información relacionada de manera lógica.\n",
        "*   **Acceder a datos:** Recuperar información específica de manera eficiente.\n",
        "*   **Manipular datos:** Añadir, eliminar o modificar información según sea necesario (excepto en tuplas).\n",
        "*   **Escribir código más limpio:** Hacer que el código sea más legible y fácil de entender al representar colecciones de datos de forma apropiada.\n",
        "\n",
        "Dominar el uso de estos tipos de datos es fundamental para escribir código Python efectivo y robusto."
      ]
    },
    {
      "cell_type": "markdown",
      "source": [
        "# 1. Situación de Interés en Ingeniería Agrícola:\n",
        "Un agrónomo consultor necesita una herramienta\n",
        "rápida para aconsejar a los agricultores sobre qué cultivos sembrar. Se requiere un programa que almacene información de varios cultivos (nombre, mes ideal de siembra, necesidad de agua) y que, al ingresar el nombre de un mes, recomiende qué cultivos son adecuados para sembrar en ese período.\n",
        "\n",
        "Paso a Paso del Código:\n",
        "\n",
        "1. Crear una lista donde cada elemento sea un diccionario. Cada diccionario representará un\n",
        "cultivo y tendrá claves como nombre, mes_siembra y riego.\n",
        "2. Crear una función llamada recomendar_cultivos. Esta función recibirá dos parámetros: la\n",
        "lista completa de cultivos y el mes actual.\n",
        "3. Dentro de la función, usar un bucle for para recorrer la lista de cultivos.\n",
        "4. En cada iteración, usar un if para comprobar si el mes_siembra del cultivo coincide con el mes\n",
        "proporcionado.\n",
        "5. Si coinciden, añadir el nombre del cultivo a una nueva lista de recomendados.\n",
        "6. Al final, la función debe devolver la lista de cultivos recomendados.\n",
        "7. En el programa principal, pedir al usuario el mes y llamar a la función para obtener e imprimir\n",
        "las recomendaciones."
      ],
      "metadata": {
        "id": "hjLCk7Jh2oZf"
      }
    },
    {
      "cell_type": "code",
      "metadata": {
        "id": "62ab2a5a"
      },
      "source": [
        "# 1. Crear una lista donde cada elemento sea un diccionario.\n",
        "cultivos = [\n",
        "    {\"nombre\": \"Maíz\", \"mes_siembra\": \"Abril\", \"riego\": \"Moderado\"},\n",
        "    {\"nombre\": \"Tomate\", \"mes_siembra\": \"Marzo\", \"riego\": \"Alto\"},\n",
        "    {\"nombre\": \"Lechuga\", \"mes_siembra\": \"Mayo\", \"riego\": \"Moderado\"},\n",
        "    {\"nombre\": \"Trigo\", \"mes_siembra\": \"Octubre\", \"riego\": \"Bajo\"},\n",
        "    {\"nombre\": \"Frijol\", \"mes_siembra\": \"Mayo\", \"riego\": \"Moderado\"},\n",
        "    {\"nombre\": \"Zanahoria\", \"mes_siembra\": \"Abril\", \"riego\": \"Moderado\"},\n",
        "]\n",
        "\n",
        "# 2. Crear una función llamada recomendar_cultivos.\n",
        "def recomendar_cultivos(lista_cultivos, mes_actual):\n",
        "    # 5. Si coinciden, añadir el nombre del cultivo a una nueva lista de recomendados.\n",
        "    cultivos_recomendados = []\n",
        "    # 3. Dentro de la función, usar un bucle for para recorrer la lista de cultivos.\n",
        "    for cultivo in lista_cultivos:\n",
        "        # 4. En cada iteración, usar un if para comprobar si el mes_siembra del cultivo coincide con el mes proporcionado.\n",
        "        if cultivo[\"mes_siembra\"].lower() == mes_actual.lower():\n",
        "            cultivos_recomendados.append(cultivo[\"nombre\"])\n",
        "    # 6. Al final, la función debe devolver la lista de cultivos recomendados.\n",
        "    return cultivos_recomendados\n",
        "\n",
        "# 7. En el programa principal, pedir al usuario el mes y llamar a la función para obtener e imprimir las recomendaciones.\n",
        "mes_ingresado = input(\"Ingrese el nombre del mes actual para obtener recomendaciones de siembra: \")\n",
        "\n",
        "recomendaciones = recomendar_cultivos(cultivos, mes_ingresado)\n",
        "\n",
        "if recomendaciones:\n",
        "    print(f\"\\nPara el mes de {mes_ingresado}, se recomienda sembrar:\")\n",
        "    for cultivo_recomendado in recomendaciones:\n",
        "        print(f\"- {cultivo_recomendado}\")\n",
        "else:\n",
        "    print(f\"\\nNo se encontraron recomendaciones de siembra para el mes de {mes_ingresado}.\")"
      ],
      "execution_count": null,
      "outputs": []
    }
  ]
}