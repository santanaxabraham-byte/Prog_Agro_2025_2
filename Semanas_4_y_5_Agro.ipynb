{
  "nbformat": 4,
  "nbformat_minor": 0,
  "metadata": {
    "colab": {
      "provenance": [],
      "authorship_tag": "ABX9TyN0mXvWoGd4bZpEy+atKhop",
      "include_colab_link": true
    },
    "kernelspec": {
      "name": "python3",
      "display_name": "Python 3"
    },
    "language_info": {
      "name": "python"
    }
  },
  "cells": [
    {
      "cell_type": "markdown",
      "metadata": {
        "id": "view-in-github",
        "colab_type": "text"
      },
      "source": [
        "<a href=\"https://colab.research.google.com/github/santanaxabraham-byte/Prog_Agro_2025_2/blob/main/Semanas_4_y_5_Agro.ipynb\" target=\"_parent\"><img src=\"https://colab.research.google.com/assets/colab-badge.svg\" alt=\"Open In Colab\"/></a>"
      ]
    },
    {
      "cell_type": "markdown",
      "metadata": {
        "id": "5e43fd64"
      },
      "source": [
        "## Listas, Diccionarios y Tuplas en Python\n",
        "\n",
        "Estos son tipos de datos compuestos que permiten almacenar colecciones de elementos.\n",
        "\n",
        "### Listas (`list`)\n",
        "\n",
        "*   **Definición:** Una colección ordenada y mutable de elementos. Los elementos pueden ser de diferentes tipos de datos.\n",
        "*   **Sintaxis:** Se definen utilizando corchetes `[]`.\n",
        "*   **Características:**\n",
        "    *   **Ordenadas:** Los elementos tienen un orden definido y se puede acceder a ellos por su índice.\n",
        "    *   **Mutables:** Se pueden modificar después de su creación (añadir, eliminar o cambiar elementos).\n",
        "    *   **Permiten duplicados:** Pueden contener elementos repetidos.\n",
        "\n",
        "### Diccionarios (`dict`)\n",
        "\n",
        "*   **Definición:** Una colección no ordenada y mutable de pares clave-valor. Cada clave es única y se utiliza para acceder a su valor asociado.\n",
        "*   **Sintaxis:** Se definen utilizando llaves `{}` y pares clave-valor separados por dos puntos `:`.\n",
        "*   **Características:**\n",
        "    *   **No ordenados:** El orden de los elementos no está garantizado (aunque en versiones recientes de Python, el orden de inserción se mantiene).\n",
        "    *   **Mutables:** Se pueden modificar después de su creación (añadir, eliminar o cambiar pares clave-valor).\n",
        "    *   **Claves únicas:** Cada clave dentro de un diccionario debe ser única.\n",
        "    *   **Acceso por clave:** Se accede a los valores utilizando sus claves asociadas.\n",
        "\n",
        "### Tuplas (`tuple`)\n",
        "\n",
        "*   **Definición:** Una colección ordenada e inmutable de elementos. Similar a las listas, pero no se pueden modificar después de su creación.\n",
        "*   **Sintaxis:** Se definen utilizando paréntesis `()`.\n",
        "*   **Características:**\n",
        "    *   **Ordenadas:** Los elementos tienen un orden definido y se puede acceder a ellos por su índice.\n",
        "    *   **Inmutables:** No se pueden modificar después de su creación (no se pueden añadir, eliminar o cambiar elementos).\n",
        "    *   **Permiten duplicados:** Pueden contener elementos repetidos.\n",
        "\n",
        "### Similitudes\n",
        "\n",
        "*   Los tres tipos pueden almacenar elementos de diferentes tipos de datos.\n",
        "*   Las listas y tuplas son ordenadas y permiten acceder a los elementos por su índice.\n",
        "\n",
        "### Diferencias\n",
        "\n",
        "*   **Mutabilidad:** Las listas y diccionarios son mutables (se pueden modificar), mientras que las tuplas son inmutables (no se pueden modificar).\n",
        "*   **Orden:** Las listas y tuplas son ordenadas, mientras que los diccionarios (históricamente) no lo son (aunque en versiones recientes mantienen el orden de inserción).\n",
        "*   **Acceso:** Las listas y tuplas se acceden por índice, mientras que los diccionarios se acceden por clave.\n",
        "*   **Estructura:** Las listas y tuplas almacenan elementos individuales, mientras que los diccionarios almacenan pares clave-valor."
      ]
    },
    {
      "cell_type": "markdown",
      "source": [],
      "metadata": {
        "id": "m8LAuVXS1G9R"
      }
    },
    {
      "cell_type": "markdown",
      "metadata": {
        "id": "34f164b9"
      },
      "source": [
        "## Funciones, Usos e Importancia de Listas, Diccionarios y Tuplas en Python\n",
        "\n",
        "Estos tipos de datos compuestos son fundamentales en Python para organizar y manipular colecciones de información de manera eficiente.\n",
        "\n",
        "### Listas (`list`)\n",
        "\n",
        "*   **Funciones/Usos:**\n",
        "    *   Almacenar colecciones ordenadas de elementos (por ejemplo, una lista de nombres de estudiantes, una secuencia de números).\n",
        "    *   Permiten acceder, modificar, añadir y eliminar elementos fácilmente por su índice.\n",
        "    *   Se utilizan comúnmente para iterar sobre colecciones de datos.\n",
        "    *   Implementar pilas (stacks) y colas (queues).\n",
        "*   **Importancia:** Su mutabilidad y orden las hacen ideales para representar colecciones dinámicas que cambian a lo largo de la ejecución del programa. Son muy versátiles para una amplia gama de tareas de programación.\n",
        "\n",
        "### Diccionarios (`dict`)\n",
        "\n",
        "*   **Funciones/Usos:**\n",
        "    *   Almacenar datos en pares clave-valor (por ejemplo, información de un usuario donde la clave es el nombre del campo y el valor es su dato).\n",
        "    *   Permiten un acceso rápido a los valores utilizando sus claves únicas.\n",
        "    *   Modelar objetos o estructuras con propiedades y sus valores.\n",
        "    *   Contar la frecuencia de elementos.\n",
        "*   **Importancia:** Son esenciales para representar datos estructurados donde la relación entre elementos es importante. El acceso rápido por clave los hace muy eficientes para buscar información.\n",
        "\n",
        "### Tuplas (`tuple`)\n",
        "\n",
        "*   **Funciones/Usos:**\n",
        "    *   Almacenar colecciones ordenadas de elementos que **no deben ser modificados** después de su creación (por ejemplo, las coordenadas de un punto, los días de la semana).\n",
        "    *   Pueden ser utilizadas como claves en diccionarios (si contienen elementos inmutables), a diferencia de las listas.\n",
        "    *   Devolver múltiples valores de una función.\n",
        "*   **Importancia:** Su inmutabilidad garantiza que los datos que contienen no cambiarán accidentalmente. Son útiles para datos que deben permanecer constantes y para mejorar la seguridad de los datos. También pueden ser ligeramente más eficientes en términos de memoria y rendimiento en algunos casos debido a su naturaleza inmutable.\n",
        "\n",
        "### Importancia General\n",
        "\n",
        "Listas, diccionarios y tuplas son cruciales porque proporcionan formas estructuradas de manejar múltiples piezas de información. Permiten a los programadores:\n",
        "\n",
        "*   **Organizar datos:** Agrupar información relacionada de manera lógica.\n",
        "*   **Acceder a datos:** Recuperar información específica de manera eficiente.\n",
        "*   **Manipular datos:** Añadir, eliminar o modificar información según sea necesario (excepto en tuplas).\n",
        "*   **Escribir código más limpio:** Hacer que el código sea más legible y fácil de entender al representar colecciones de datos de forma apropiada.\n",
        "\n",
        "Dominar el uso de estos tipos de datos es fundamental para escribir código Python efectivo y robusto."
      ]
    },
    {
      "cell_type": "markdown",
      "source": [
        "# 1. Situación de Interés en Ingeniería Agrícola:\n",
        "Un agrónomo consultor necesita una herramienta\n",
        "rápida para aconsejar a los agricultores sobre qué cultivos sembrar. Se requiere un programa que almacene información de varios cultivos (nombre, mes ideal de siembra, necesidad de agua) y que, al ingresar el nombre de un mes, recomiende qué cultivos son adecuados para sembrar en ese período.\n",
        "\n",
        "Paso a Paso del Código:\n",
        "\n",
        "1. Crear una lista donde cada elemento sea un diccionario. Cada diccionario representará un\n",
        "cultivo y tendrá claves como nombre, mes_siembra y riego.\n",
        "2. Crear una función llamada recomendar_cultivos. Esta función recibirá dos parámetros: la\n",
        "lista completa de cultivos y el mes actual.\n",
        "3. Dentro de la función, usar un bucle for para recorrer la lista de cultivos.\n",
        "4. En cada iteración, usar un if para comprobar si el mes_siembra del cultivo coincide con el mes\n",
        "proporcionado.\n",
        "5. Si coinciden, añadir el nombre del cultivo a una nueva lista de recomendados.\n",
        "6. Al final, la función debe devolver la lista de cultivos recomendados.\n",
        "7. En el programa principal, pedir al usuario el mes y llamar a la función para obtener e imprimir\n",
        "las recomendaciones."
      ],
      "metadata": {
        "id": "hjLCk7Jh2oZf"
      }
    },
    {
      "cell_type": "code",
      "metadata": {
        "id": "62ab2a5a"
      },
      "source": [
        "# 1. Crear una lista donde cada elemento sea un diccionario.\n",
        "cultivos = [\n",
        "    {\"nombre\": \"Maíz\", \"mes_siembra\": \"Abril\", \"riego\": \"Moderado\"},\n",
        "    {\"nombre\": \"Tomate\", \"mes_siembra\": \"Marzo\", \"riego\": \"Alto\"},\n",
        "    {\"nombre\": \"Lechuga\", \"mes_siembra\": \"Mayo\", \"riego\": \"Moderado\"},\n",
        "    {\"nombre\": \"Trigo\", \"mes_siembra\": \"Octubre\", \"riego\": \"Bajo\"},\n",
        "    {\"nombre\": \"Frijol\", \"mes_siembra\": \"Mayo\", \"riego\": \"Moderado\"},\n",
        "    {\"nombre\": \"Zanahoria\", \"mes_siembra\": \"Abril\", \"riego\": \"Moderado\"},\n",
        "]\n",
        "\n",
        "# 2. Crear una función llamada recomendar_cultivos.\n",
        "def recomendar_cultivos(lista_cultivos, mes_actual):\n",
        "    # 5. Si coinciden, añadir el nombre del cultivo a una nueva lista de recomendados.\n",
        "    cultivos_recomendados = []\n",
        "    # 3. Dentro de la función, usar un bucle for para recorrer la lista de cultivos.\n",
        "    for cultivo in lista_cultivos:\n",
        "        # 4. En cada iteración, usar un if para comprobar si el mes_siembra del cultivo coincide con el mes proporcionado.\n",
        "        if cultivo[\"mes_siembra\"].lower() == mes_actual.lower():\n",
        "            cultivos_recomendados.append(cultivo[\"nombre\"])\n",
        "    # 6. Al final, la función debe devolver la lista de cultivos recomendados.\n",
        "    return cultivos_recomendados\n",
        "\n",
        "# 7. En el programa principal, pedir al usuario el mes y llamar a la función para obtener e imprimir las recomendaciones.\n",
        "mes_ingresado = input(\"Ingrese el nombre del mes actual para obtener recomendaciones de siembra: \")\n",
        "\n",
        "recomendaciones = recomendar_cultivos(cultivos, mes_ingresado)\n",
        "\n",
        "if recomendaciones:\n",
        "    print(f\"\\nPara el mes de {mes_ingresado}, se recomienda sembrar:\")\n",
        "    for cultivo_recomendado in recomendaciones:\n",
        "        print(f\"- {cultivo_recomendado}\")\n",
        "else:\n",
        "    print(f\"\\nNo se encontraron recomendaciones de siembra para el mes de {mes_ingresado}.\")"
      ],
      "execution_count": null,
      "outputs": []
    },
    {
      "cell_type": "markdown",
      "metadata": {
        "id": "c12099ac"
      },
      "source": [
        "## Explicación del Código: Planificador de Cultivos\n",
        "\n",
        "Este código Python implementa un sencillo planificador de cultivos basado en el mes de siembra ideal para cada uno. Aquí te detallo cada parte:\n",
        "\n",
        "1.  **Creación de la lista de cultivos:**\n",
        "    *   Se define una lista llamada `cultivos`.\n",
        "    *   Cada elemento dentro de esta lista es un diccionario.\n",
        "    *   Cada diccionario representa un cultivo y contiene tres pares clave-valor:\n",
        "        *   `\"nombre\"`: El nombre del cultivo (cadena de texto).\n",
        "        *   `\"mes_siembra\"`: El mes ideal para la siembra de ese cultivo (cadena de texto).\n",
        "        *   `\"riego\"`: La necesidad de riego del cultivo (cadena de texto).\n",
        "\n",
        "2.  **Definición de la función `recomendar_cultivos`:**\n",
        "    *   Se crea una función llamada `recomendar_cultivos` que toma dos argumentos: `lista_cultivos` (la lista de diccionarios de cultivos) y `mes_actual` (el mes ingresado por el usuario).\n",
        "    *   Dentro de la función, se inicializa una lista vacía llamada `cultivos_recomendados`. Esta lista almacenará los nombres de los cultivos que coinciden con el mes de siembra.\n",
        "    *   Se utiliza un bucle `for` para iterar sobre cada `cultivo` (que es un diccionario) dentro de la `lista_cultivos`.\n",
        "    *   Dentro del bucle, se usa una sentencia `if` para comparar el valor asociado a la clave `\"mes_siembra\"` del diccionario `cultivo` con el `mes_actual` proporcionado. Se usa `.lower()` en ambos para hacer la comparación insensible a mayúsculas y minúsculas.\n",
        "    *   Si el mes de siembra del cultivo coincide con el mes actual, se añade el `\"nombre\"` de ese `cultivo` a la lista `cultivos_recomendados` usando `.append()`.\n",
        "    *   Finalmente, la función devuelve la lista `cultivos_recomendados` con los nombres de todos los cultivos adecuados para el mes ingresado.\n",
        "\n",
        "3.  **Programa principal (interacción con el usuario):**\n",
        "    *   Se pide al usuario que ingrese el nombre del mes actual utilizando la función `input()` y se almacena en la variable `mes_ingresado`.\n",
        "    *   Se llama a la función `recomendar_cultivos`, pasándole la lista `cultivos` y el `mes_ingresado` como argumentos. El resultado (la lista de recomendaciones) se guarda en la variable `recomendaciones`.\n",
        "    *   Se comprueba si la lista `recomendaciones` no está vacía (`if recomendaciones:`).\n",
        "    *   Si hay recomendaciones (la lista no está vacía), se imprime un mensaje indicando el mes y se utiliza otro bucle `for` para iterar sobre cada `cultivo_recomendado` en la lista e imprimirlo con un guion.\n",
        "    *   Si la lista `recomendaciones` está vacía (no se encontraron cultivos para ese mes), se imprime un mensaje indicando que no se encontraron recomendaciones.\n",
        "\n",
        "Este código demuestra cómo usar listas de diccionarios para organizar datos estructurados y cómo una función puede procesar esta estructura para proporcionar información útil basada en un criterio específico (el mes de siembra)."
      ]
    },
    {
      "cell_type": "markdown",
      "source": [
        "# Situación 1: Función para Validar Parámetros de Calidad Una planta recibe lotes de fruta y debe validar si cumplen con los parámetros de pH y grados Brix para ser aceptados.\n",
        "Crearás una función que centralice esta lógica de validación.\n",
        "\n",
        "• Paso a Paso del Código (Guía para el Notebook)\n",
        "\n",
        "1. # Definir una función 'validar_lote' que tome dos parámetros: 'ph' y 'brix'.\n",
        "\n",
        "2. # Dentro de la función, usar una estructura 'if' para verificar si el pH está entre 3.5 y 4.5 Y si los grados Brix son mayores a 12.\n",
        "\n",
        "3. # Si ambas condiciones se cumplen, la función debe devolver el valor booleano True.\n",
        "\n",
        "4. # De lo contrario (else), la función debe devolver el valor booleano False.\n",
        "\n",
        "5. # En el programa principal, pedir al usuario el pH y los grados Brix del lote actual.\n",
        "\n",
        "6. # Llamar a la función 'validar_lote' con los datos ingresados y guardar el resultado (True/False) en una variable.\n",
        "\n",
        "7. # Usar un 'if' en el programa principal para comprobar el valor de esa variable.\n",
        "\n",
        "8. # Si la variable es True, imprimir \"Lote APROBADO\". Si es False, imprimir \"Lote RECHAZADO\".\n"
      ],
      "metadata": {
        "id": "vMr5_vry799K"
      }
    },
    {
      "cell_type": "code",
      "metadata": {
        "id": "1cb3823c"
      },
      "source": [
        "# 1. Definir una función 'validar_lote' que tome dos parámetros: 'ph' y 'brix'.\n",
        "def validar_lote(ph, brix):\n",
        "    # 2. Dentro de la función, usar una estructura 'if' para verificar si el pH está entre 3.5 y 4.5 Y si los grados Brix son mayores a 12.\n",
        "    if 3.5 <= ph <= 4.5 and brix > 12:\n",
        "        # 3. Si ambas condiciones se cumplen, la función debe devolver el valor booleano True.\n",
        "        return True\n",
        "    # 4. De lo contrario (else), la función debe devolver el valor booleano False.\n",
        "    else:\n",
        "        return False\n",
        "\n",
        "# 5. En el programa principal, pedir al usuario el pH y los grados Brix del lote actual.\n",
        "try:\n",
        "    ph_lote = float(input(\"Ingrese el valor de pH del lote: \"))\n",
        "    brix_lote = float(input(\"Ingrese el valor de grados Brix del lote: \"))\n",
        "\n",
        "    # 6. Llamar a la función 'validar_lote' con los datos ingresados y guardar el resultado (True/False) en una variable.\n",
        "    lote_aprobado = validar_lote(ph_lote, brix_lote)\n",
        "\n",
        "    # 7. Usar un 'if' en el programa principal para comprobar el valor de esa variable.\n",
        "    # 8. Si la variable es True, imprimir \"Lote APROBADO\". Si es False, imprimir \"Lote RECHAZADO\".\n",
        "    if lote_aprobado:\n",
        "        print(\"\\nLote APROBADO\")\n",
        "    else:\n",
        "        print(\"\\nLote RECHAZADO\")\n",
        "\n",
        "except ValueError:\n",
        "    print(\"\\nEntrada inválida. Por favor, ingrese valores numéricos para pH y grados Brix.\")"
      ],
      "execution_count": null,
      "outputs": []
    },
    {
      "cell_type": "markdown",
      "metadata": {
        "id": "2d6a10b4"
      },
      "source": [
        "## Explicación del Código: Validación de Lote de Fruta\n",
        "\n",
        "Este código Python define una función para validar si un lote de fruta cumple con ciertos parámetros de calidad (pH y grados Brix) y luego usa esa función para procesar la entrada del usuario. Aquí te explico cada parte:\n",
        "\n",
        "1.  **Definición de la función `validar_lote`:**\n",
        "    *   Se crea una función llamada `validar_lote` que espera recibir dos argumentos: `ph` y `brix`.\n",
        "    *   Dentro de la función, se utiliza una estructura `if` para evaluar dos condiciones simultáneamente usando el operador lógico `and`:\n",
        "        *   `3.5 <= ph <= 4.5`: Verifica si el valor del pH está dentro del rango aceptable (mayor o igual a 3.5 Y menor o igual a 4.5).\n",
        "        *   `brix > 12`: Verifica si el valor de los grados Brix es mayor que 12.\n",
        "    *   Si **ambas** condiciones son verdaderas (lo que significa que el pH está en el rango y los grados Brix son mayores a 12), la función ejecuta el bloque dentro del `if` y devuelve el valor booleano `True`.\n",
        "    *   Si alguna de las condiciones (o ambas) son falsas, la ejecución pasa al bloque `else`, y la función devuelve el valor booleano `False`.\n",
        "\n",
        "2.  **Programa principal (interacción con el usuario y validación):**\n",
        "    *   Se utiliza un bloque `try...except ValueError:` para manejar posibles errores si el usuario ingresa algo que no sea un número.\n",
        "    *   Dentro del bloque `try`:\n",
        "        *   Se pide al usuario que ingrese el valor de pH utilizando `input()` y se convierte la entrada a un número de punto flotante (`float`). Se almacena en la variable `ph_lote`.\n",
        "        *   Se pide al usuario que ingrese el valor de grados Brix utilizando `input()` y se convierte la entrada a un número de punto flotante (`float`). Se almacena en la variable `brix_lote`.\n",
        "        *   Se llama a la función `validar_lote`, pasándole `ph_lote` y `brix_lote` como argumentos. El valor booleano que devuelve la función (`True` o `False`) se almacena en la variable `lote_aprobado`.\n",
        "        *   Se utiliza otra estructura `if` para verificar el valor de la variable `lote_aprobado`:\n",
        "            *   Si `lote_aprobado` es `True`, se imprime el mensaje \"Lote APROBADO\".\n",
        "            *   Si `lote_aprobado` es `False`, se imprime el mensaje \"Lote RECHAZADO\".\n",
        "    *   Dentro del bloque `except ValueError:`:\n",
        "        *   Si el usuario ingresó texto en lugar de números para el pH o los Brix, se captura la excepción `ValueError` y se imprime un mensaje de error indicando que la entrada fue inválida.\n",
        "\n",
        "Este código demuestra cómo definir y utilizar una función para encapsular una lógica de validación y cómo manejar la entrada del usuario, incluyendo la gestión básica de errores con `try-except`."
      ]
    },
    {
      "cell_type": "markdown",
      "source": [
        "#Situación 1: Ficha Técnica de un Producto\n",
        "Se necesita un programa para almacenar y mostrar la información clave de un producto alimenticio, como su nombre, lote, fecha de vencimiento y porcentaje de humedad. Un diccionario es perfecto para esto, ya que cada dato tiene una etiqueta clara.\n",
        "\n",
        "• Paso a Paso del Código (Guía para el Notebook)\n",
        "\n",
        "1. # Crear un diccionario vacío llamado 'ficha_producto'.\n",
        "\n",
        "2. # Pedir al usuario el nombre del producto y guardarlo en el diccionario con la clave 'nombre'.\n",
        "\n",
        "3. # Pedir el número de lote y guardarlo con la clave 'lote'.\n",
        "\n",
        "4. # Pedir la fecha de vencimiento y guardarla con la clave 'vencimiento'.\n",
        "\n",
        "5. # Pedir el porcentaje de humedad y guardarlo con la clave 'humedad'.\n",
        "\n",
        "6. # Mostrar un encabezado que diga \"--- Ficha Técnica del Producto ---\".\n",
        "\n",
        "7. # Imprimir cada uno de los valores del diccionario accediendo a ellos a través de sus claves (ej. ficha_producto['nombre'])."
      ],
      "metadata": {
        "id": "LfAB-AiE-XaI"
      }
    },
    {
      "cell_type": "code",
      "source": [],
      "metadata": {
        "id": "kpprJms4-z6H"
      },
      "execution_count": null,
      "outputs": []
    },
    {
      "cell_type": "code",
      "source": [],
      "metadata": {
        "id": "dLBKkQGrAkr5"
      },
      "execution_count": null,
      "outputs": []
    },
    {
      "cell_type": "code",
      "metadata": {
        "id": "8ff585ad"
      },
      "source": [
        "# Crear una lista para almacenar las fichas de varios productos\n",
        "fichas_productos = []\n",
        "\n",
        "while True:\n",
        "    # Crear un diccionario vacío para la ficha del producto actual\n",
        "    ficha_producto = {}\n",
        "\n",
        "    print(\"\\n--- Ingresar Datos del Producto ---\")\n",
        "\n",
        "    # 2. Pedir al usuario el nombre del producto y guardarlo en el diccionario con la clave 'nombre'.\n",
        "    nombre = input(\"Ingrese el nombre del producto (o escriba 'fin' para terminar): \")\n",
        "    if nombre.lower() == 'fin':\n",
        "        break\n",
        "    ficha_producto['nombre'] = nombre\n",
        "\n",
        "    # 3. Pedir el número de lote y guardarlo con la clave 'lote'.\n",
        "    ficha_producto['lote'] = input(\"Ingrese el número de lote: \")\n",
        "\n",
        "    # 4. Pedir la fecha de vencimiento y guardarla con la clave 'vencimiento'.\n",
        "    ficha_producto['vencimiento'] = input(\"Ingrese la fecha de vencimiento: \")\n",
        "\n",
        "    # 5. Pedir el porcentaje de humedad y guardarlo con la clave 'humedad'.\n",
        "    # Usar try-except para asegurar que la entrada sea numérica\n",
        "    try:\n",
        "        humedad_str = input(\"Ingrese el porcentaje de humedad (%): \")\n",
        "        ficha_producto['humedad'] = float(humedad_str)\n",
        "    except ValueError:\n",
        "        print(\"Entrada inválida para porcentaje de humedad. Se guardará como texto.\")\n",
        "        ficha_producto['humedad'] = humedad_str\n",
        "\n",
        "    # Añadir la ficha del producto a la lista\n",
        "    fichas_productos.append(ficha_producto)\n",
        "    print(\"Producto agregado.\")\n",
        "\n",
        "# Mostrar las fichas técnicas de todos los productos ingresados\n",
        "if fichas_productos:\n",
        "    print(\"\\n--- Fichas Técnicas de los Productos ---\")\n",
        "    for i, ficha in enumerate(fichas_productos):\n",
        "        print(f\"\\n--- Producto {i+1} ---\")\n",
        "        print(f\"Nombre: {ficha.get('nombre', 'No especificado')}\")\n",
        "        print(f\"Lote: {ficha.get('lote', 'No especificado')}\")\n",
        "        print(f\"Fecha de Vencimiento: {ficha.get('vencimiento', 'No especificado')}\")\n",
        "        print(f\"Humedad: {ficha.get('humedad', 'No especificado')}%\")\n",
        "else:\n",
        "    print(\"\\nNo se ingresaron datos de productos.\")"
      ],
      "execution_count": null,
      "outputs": []
    },
    {
      "cell_type": "code",
      "metadata": {
        "id": "56d97f9f"
      },
      "source": [
        "!pip install pandas openpyxl"
      ],
      "execution_count": null,
      "outputs": []
    },
    {
      "cell_type": "code",
      "metadata": {
        "id": "72bc0dda"
      },
      "source": [
        "import pandas as pd\n",
        "\n",
        "# Convertir la lista de diccionarios a un DataFrame de pandas\n",
        "df_productos = pd.DataFrame(fichas_productos)\n",
        "\n",
        "# Guardar el DataFrame en un archivo de Excel\n",
        "try:\n",
        "    df_productos.to_excel(\"fichas_productos.xlsx\", index=False)\n",
        "    print(\"Datos guardados exitosamente en 'fichas_productos.xlsx'\")\n",
        "except Exception as e:\n",
        "    print(f\"Error al guardar el archivo de Excel: {e}\")"
      ],
      "execution_count": null,
      "outputs": []
    }
  ]
}